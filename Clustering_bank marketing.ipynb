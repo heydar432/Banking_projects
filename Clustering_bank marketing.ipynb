{
 "cells": [
  {
   "attachments": {},
   "cell_type": "markdown",
   "metadata": {},
   "source": [
    "## Problem Statement\n",
    "### The data is related with direct marketing campaigns of a Portuguese banking institution. Cluster customers on the basis of attributes.\n",
    "\n",
    "### https://archive.ics.uci.edu/ml/datasets/bank+marketing"
   ]
  },
  {
   "cell_type": "code",
   "execution_count": 7,
   "metadata": {},
   "outputs": [
    {
     "data": {
      "text/plain": [
       "\"Attribute Information(Categorical):\\n\\nage (numeric)\\njob : type of job (categorical: 'admin.','blue-collar','entrepreneur','housemaid','management','retired','self-employed','services','student','technician','unemployed','unknown')\\nmarital : marital status (categorical: 'divorced','married','single','unknown'; note: 'divorced' means divorced or widowed)\\neducation (categorical: 'basic.4y','basic.6y','basic.9y','high.school','illiterate','professional.course','university.degree','unknown')\\ndefault: has credit in default? (categorical: 'no','yes','unknown')\\nhousing: has housing loan? (categorical: 'no','yes','unknown')\\nloan: has personal loan? (categorical: 'no','yes','unknown')\\ncontact: contact communication type (categorical: 'cellular','telephone')\\nmonth: last contact month of year (categorical: 'jan', 'feb', 'mar', ..., 'nov', 'dec')\\nday_of_week: last contact day of the week (categorical: 'mon','tue','wed','thu','fri')\\npoutcome: outcome of the previous marketing campaign (categorical: 'failure','nonexistent','success')\""
      ]
     },
     "execution_count": 7,
     "metadata": {},
     "output_type": "execute_result"
    }
   ],
   "source": [
    "'''Attribute Information(Categorical):\n",
    "\n",
    "age (numeric)\n",
    "job : type of job (categorical: 'admin.','blue-collar','entrepreneur','housemaid','management','retired','self-employed','services','student','technician','unemployed','unknown')\n",
    "marital : marital status (categorical: 'divorced','married','single','unknown'; note: 'divorced' means divorced or widowed)\n",
    "education (categorical: 'basic.4y','basic.6y','basic.9y','high.school','illiterate','professional.course','university.degree','unknown')\n",
    "default: has credit in default? (categorical: 'no','yes','unknown')\n",
    "housing: has housing loan? (categorical: 'no','yes','unknown')\n",
    "loan: has personal loan? (categorical: 'no','yes','unknown')\n",
    "contact: contact communication type (categorical: 'cellular','telephone')\n",
    "month: last contact month of year (categorical: 'jan', 'feb', 'mar', ..., 'nov', 'dec')\n",
    "day_of_week: last contact day of the week (categorical: 'mon','tue','wed','thu','fri')\n",
    "poutcome: outcome of the previous marketing campaign (categorical: 'failure','nonexistent','success')'''"
   ]
  },
  {
   "cell_type": "code",
   "execution_count": 22,
   "metadata": {},
   "outputs": [],
   "source": [
    "import pandas as pd\n",
    "import matplotlib.pyplot as plt\n",
    "import numpy as np\n",
    "\n",
    "from sklearn.cluster import KMeans\n",
    "from sklearn.cluster import DBSCAN\n",
    "\n",
    "from sklearn.decomposition import PCA\n",
    "\n",
    "from sklearn.metrics import silhouette_score, calinski_harabasz_score, davies_bouldin_score"
   ]
  },
  {
   "cell_type": "code",
   "execution_count": 9,
   "metadata": {},
   "outputs": [],
   "source": [
    "path = ('\\datasets/bank-full.csv')\n",
    "df1 = pd.read_csv(path,sep=';')"
   ]
  },
  {
   "cell_type": "code",
   "execution_count": 10,
   "metadata": {},
   "outputs": [
    {
     "data": {
      "text/html": [
       "<div>\n",
       "<style scoped>\n",
       "    .dataframe tbody tr th:only-of-type {\n",
       "        vertical-align: middle;\n",
       "    }\n",
       "\n",
       "    .dataframe tbody tr th {\n",
       "        vertical-align: top;\n",
       "    }\n",
       "\n",
       "    .dataframe thead th {\n",
       "        text-align: right;\n",
       "    }\n",
       "</style>\n",
       "<table border=\"1\" class=\"dataframe\">\n",
       "  <thead>\n",
       "    <tr style=\"text-align: right;\">\n",
       "      <th></th>\n",
       "      <th>age</th>\n",
       "      <th>job</th>\n",
       "      <th>marital</th>\n",
       "      <th>education</th>\n",
       "      <th>default</th>\n",
       "      <th>balance</th>\n",
       "      <th>housing</th>\n",
       "      <th>loan</th>\n",
       "      <th>contact</th>\n",
       "      <th>day</th>\n",
       "      <th>month</th>\n",
       "      <th>duration</th>\n",
       "      <th>campaign</th>\n",
       "      <th>pdays</th>\n",
       "      <th>previous</th>\n",
       "      <th>poutcome</th>\n",
       "      <th>y</th>\n",
       "    </tr>\n",
       "  </thead>\n",
       "  <tbody>\n",
       "    <tr>\n",
       "      <th>0</th>\n",
       "      <td>58</td>\n",
       "      <td>management</td>\n",
       "      <td>married</td>\n",
       "      <td>tertiary</td>\n",
       "      <td>no</td>\n",
       "      <td>2143</td>\n",
       "      <td>yes</td>\n",
       "      <td>no</td>\n",
       "      <td>unknown</td>\n",
       "      <td>5</td>\n",
       "      <td>may</td>\n",
       "      <td>261</td>\n",
       "      <td>1</td>\n",
       "      <td>-1</td>\n",
       "      <td>0</td>\n",
       "      <td>unknown</td>\n",
       "      <td>no</td>\n",
       "    </tr>\n",
       "    <tr>\n",
       "      <th>1</th>\n",
       "      <td>44</td>\n",
       "      <td>technician</td>\n",
       "      <td>single</td>\n",
       "      <td>secondary</td>\n",
       "      <td>no</td>\n",
       "      <td>29</td>\n",
       "      <td>yes</td>\n",
       "      <td>no</td>\n",
       "      <td>unknown</td>\n",
       "      <td>5</td>\n",
       "      <td>may</td>\n",
       "      <td>151</td>\n",
       "      <td>1</td>\n",
       "      <td>-1</td>\n",
       "      <td>0</td>\n",
       "      <td>unknown</td>\n",
       "      <td>no</td>\n",
       "    </tr>\n",
       "    <tr>\n",
       "      <th>2</th>\n",
       "      <td>33</td>\n",
       "      <td>entrepreneur</td>\n",
       "      <td>married</td>\n",
       "      <td>secondary</td>\n",
       "      <td>no</td>\n",
       "      <td>2</td>\n",
       "      <td>yes</td>\n",
       "      <td>yes</td>\n",
       "      <td>unknown</td>\n",
       "      <td>5</td>\n",
       "      <td>may</td>\n",
       "      <td>76</td>\n",
       "      <td>1</td>\n",
       "      <td>-1</td>\n",
       "      <td>0</td>\n",
       "      <td>unknown</td>\n",
       "      <td>no</td>\n",
       "    </tr>\n",
       "    <tr>\n",
       "      <th>3</th>\n",
       "      <td>47</td>\n",
       "      <td>blue-collar</td>\n",
       "      <td>married</td>\n",
       "      <td>unknown</td>\n",
       "      <td>no</td>\n",
       "      <td>1506</td>\n",
       "      <td>yes</td>\n",
       "      <td>no</td>\n",
       "      <td>unknown</td>\n",
       "      <td>5</td>\n",
       "      <td>may</td>\n",
       "      <td>92</td>\n",
       "      <td>1</td>\n",
       "      <td>-1</td>\n",
       "      <td>0</td>\n",
       "      <td>unknown</td>\n",
       "      <td>no</td>\n",
       "    </tr>\n",
       "    <tr>\n",
       "      <th>4</th>\n",
       "      <td>33</td>\n",
       "      <td>unknown</td>\n",
       "      <td>single</td>\n",
       "      <td>unknown</td>\n",
       "      <td>no</td>\n",
       "      <td>1</td>\n",
       "      <td>no</td>\n",
       "      <td>no</td>\n",
       "      <td>unknown</td>\n",
       "      <td>5</td>\n",
       "      <td>may</td>\n",
       "      <td>198</td>\n",
       "      <td>1</td>\n",
       "      <td>-1</td>\n",
       "      <td>0</td>\n",
       "      <td>unknown</td>\n",
       "      <td>no</td>\n",
       "    </tr>\n",
       "  </tbody>\n",
       "</table>\n",
       "</div>"
      ],
      "text/plain": [
       "   age           job  marital  education default  balance housing loan  \\\n",
       "0   58    management  married   tertiary      no     2143     yes   no   \n",
       "1   44    technician   single  secondary      no       29     yes   no   \n",
       "2   33  entrepreneur  married  secondary      no        2     yes  yes   \n",
       "3   47   blue-collar  married    unknown      no     1506     yes   no   \n",
       "4   33       unknown   single    unknown      no        1      no   no   \n",
       "\n",
       "   contact  day month  duration  campaign  pdays  previous poutcome   y  \n",
       "0  unknown    5   may       261         1     -1         0  unknown  no  \n",
       "1  unknown    5   may       151         1     -1         0  unknown  no  \n",
       "2  unknown    5   may        76         1     -1         0  unknown  no  \n",
       "3  unknown    5   may        92         1     -1         0  unknown  no  \n",
       "4  unknown    5   may       198         1     -1         0  unknown  no  "
      ]
     },
     "execution_count": 10,
     "metadata": {},
     "output_type": "execute_result"
    }
   ],
   "source": [
    "df1.head()"
   ]
  },
  {
   "cell_type": "code",
   "execution_count": 11,
   "metadata": {},
   "outputs": [],
   "source": [
    "df = df1.copy()"
   ]
  },
  {
   "cell_type": "code",
   "execution_count": 12,
   "metadata": {},
   "outputs": [],
   "source": [
    "del df['y']"
   ]
  },
  {
   "cell_type": "code",
   "execution_count": 13,
   "metadata": {},
   "outputs": [
    {
     "name": "stdout",
     "output_type": "stream",
     "text": [
      "marital : ['married' 'single' 'divorced']\n",
      "education : ['tertiary' 'secondary' 'unknown' 'primary']\n",
      "default : ['no' 'yes']\n",
      "housing : ['yes' 'no']\n",
      "loan : ['no' 'yes']\n",
      "contact : ['unknown' 'cellular' 'telephone']\n",
      "poutcome : ['unknown' 'failure' 'other' 'success']\n"
     ]
    }
   ],
   "source": [
    "for i in df.columns:\n",
    "    if df[i].nunique() < 10:\n",
    "        print(i,':',df[i].unique())"
   ]
  },
  {
   "cell_type": "code",
   "execution_count": 14,
   "metadata": {},
   "outputs": [],
   "source": [
    "df = pd.get_dummies(df)"
   ]
  },
  {
   "cell_type": "code",
   "execution_count": 15,
   "metadata": {},
   "outputs": [
    {
     "name": "stdout",
     "output_type": "stream",
     "text": [
      "[0.99181403 0.00709197]\n",
      "[647398.82408967  54744.47011355]\n"
     ]
    }
   ],
   "source": [
    "# dimension reduction \n",
    "\n",
    "pca = PCA(n_components=2)\n",
    "\n",
    "dff = pca.fit_transform(df)\n",
    "\n",
    "print(pca.explained_variance_ratio_)\n",
    "print(pca.singular_values_)"
   ]
  },
  {
   "cell_type": "code",
   "execution_count": 16,
   "metadata": {},
   "outputs": [
    {
     "data": {
      "text/html": [
       "<div>\n",
       "<style scoped>\n",
       "    .dataframe tbody tr th:only-of-type {\n",
       "        vertical-align: middle;\n",
       "    }\n",
       "\n",
       "    .dataframe tbody tr th {\n",
       "        vertical-align: top;\n",
       "    }\n",
       "\n",
       "    .dataframe thead th {\n",
       "        text-align: right;\n",
       "    }\n",
       "</style>\n",
       "<table border=\"1\" class=\"dataframe\">\n",
       "  <thead>\n",
       "    <tr style=\"text-align: right;\">\n",
       "      <th></th>\n",
       "      <th>column1</th>\n",
       "      <th>column2</th>\n",
       "    </tr>\n",
       "  </thead>\n",
       "  <tbody>\n",
       "    <tr>\n",
       "      <th>0</th>\n",
       "      <td>780.732837</td>\n",
       "      <td>1.441493</td>\n",
       "    </tr>\n",
       "    <tr>\n",
       "      <th>1</th>\n",
       "      <td>-1333.470313</td>\n",
       "      <td>-104.671732</td>\n",
       "    </tr>\n",
       "    <tr>\n",
       "      <th>2</th>\n",
       "      <td>-1360.611783</td>\n",
       "      <td>-179.618944</td>\n",
       "    </tr>\n",
       "    <tr>\n",
       "      <th>3</th>\n",
       "      <td>143.419769</td>\n",
       "      <td>-166.385016</td>\n",
       "    </tr>\n",
       "    <tr>\n",
       "      <th>4</th>\n",
       "      <td>-1361.387653</td>\n",
       "      <td>-57.617398</td>\n",
       "    </tr>\n",
       "    <tr>\n",
       "      <th>...</th>\n",
       "      <td>...</td>\n",
       "      <td>...</td>\n",
       "    </tr>\n",
       "    <tr>\n",
       "      <th>45206</th>\n",
       "      <td>-535.951993</td>\n",
       "      <td>719.848086</td>\n",
       "    </tr>\n",
       "    <tr>\n",
       "      <th>45207</th>\n",
       "      <td>367.096314</td>\n",
       "      <td>197.184931</td>\n",
       "    </tr>\n",
       "    <tr>\n",
       "      <th>45208</th>\n",
       "      <td>4354.343024</td>\n",
       "      <td>860.720542</td>\n",
       "    </tr>\n",
       "    <tr>\n",
       "      <th>45209</th>\n",
       "      <td>-693.811135</td>\n",
       "      <td>251.135112</td>\n",
       "    </tr>\n",
       "    <tr>\n",
       "      <th>45210</th>\n",
       "      <td>1608.929565</td>\n",
       "      <td>99.772130</td>\n",
       "    </tr>\n",
       "  </tbody>\n",
       "</table>\n",
       "<p>45211 rows × 2 columns</p>\n",
       "</div>"
      ],
      "text/plain": [
       "           column1     column2\n",
       "0       780.732837    1.441493\n",
       "1     -1333.470313 -104.671732\n",
       "2     -1360.611783 -179.618944\n",
       "3       143.419769 -166.385016\n",
       "4     -1361.387653  -57.617398\n",
       "...            ...         ...\n",
       "45206  -535.951993  719.848086\n",
       "45207   367.096314  197.184931\n",
       "45208  4354.343024  860.720542\n",
       "45209  -693.811135  251.135112\n",
       "45210  1608.929565   99.772130\n",
       "\n",
       "[45211 rows x 2 columns]"
      ]
     },
     "execution_count": 16,
     "metadata": {},
     "output_type": "execute_result"
    }
   ],
   "source": [
    "df = pd.DataFrame(dff,columns=['column1','column2'])\n",
    "df"
   ]
  },
  {
   "cell_type": "code",
   "execution_count": 18,
   "metadata": {},
   "outputs": [
    {
     "name": "stdout",
     "output_type": "stream",
     "text": [
      "For n_clusters=2, the average silhouette_score is 0.845\n",
      "SSE: 201259789069.39322\n",
      "Calinski-Harabasz Index: 49612.34481972705\n",
      "Davies-Bouldin Index: 0.5346713212371279\n",
      "---------------------------------------\n",
      "For n_clusters=3, the average silhouette_score is 0.774\n",
      "SSE: 112635553844.93379\n",
      "Calinski-Harabasz Index: 62108.6516681491\n",
      "Davies-Bouldin Index: 0.5195229248334448\n",
      "---------------------------------------\n",
      "For n_clusters=4, the average silhouette_score is 0.737\n",
      "SSE: 72698420805.19543\n",
      "Calinski-Harabasz Index: 72429.55702602415\n",
      "Davies-Bouldin Index: 0.5195625893047059\n",
      "---------------------------------------\n",
      "For n_clusters=5, the average silhouette_score is 0.689\n",
      "SSE: 48361596107.57002\n",
      "Calinski-Harabasz Index: 87344.33977938119\n",
      "Davies-Bouldin Index: 0.5037059801961978\n",
      "---------------------------------------\n"
     ]
    }
   ],
   "source": [
    "# fit K-means clustering with different number of clusters\n",
    "for n_clusters in range(2, 6):\n",
    "    kmeans = KMeans(n_clusters=n_clusters)\n",
    "\n",
    "    # Fit k-means model\n",
    "    cluster_labels = kmeans.fit_predict(df)\n",
    "\n",
    "    # Calculate metrics\n",
    "    sse = kmeans.inertia_\n",
    "    silhouette = silhouette_score(df, kmeans.labels_)\n",
    "    calinski_harabasz = calinski_harabasz_score(df, kmeans.labels_)\n",
    "    davies_bouldin = davies_bouldin_score(df, kmeans.labels_)\n",
    "\n",
    "    # Print results\n",
    "    print(f\"For n_clusters={n_clusters}, the average silhouette_score is {silhouette:.3f}\")\n",
    "    print(f\"SSE: {sse}\")\n",
    "    print(f\"Calinski-Harabasz Index: {calinski_harabasz}\")\n",
    "    print(f\"Davies-Bouldin Index: {davies_bouldin}\")\n",
    "    print('---------------------------------------')\n"
   ]
  },
  {
   "cell_type": "code",
   "execution_count": null,
   "metadata": {},
   "outputs": [
    {
     "data": {
      "image/png": "[encoded data removed]",
      "text/plain": [
       "<Figure size 432x288 with 1 Axes>"
      ]
     },
     "metadata": {
      "needs_background": "light"
     },
     "output_type": "display_data"
    }
   ],
   "source": [
    "# Define the range of clusters to test\n",
    "k_values = range(1, 10)\n",
    "\n",
    "# Fit k-means for each value of k\n",
    "kmeans_models = [KMeans(n_clusters=k, random_state=42).fit(df) for k in k_values]\n",
    "\n",
    "# Get total sum of squared distances for each model\n",
    "sums_sq = [model.inertia_ for model in kmeans_models]\n",
    "\n",
    "# Plot the elbow curve\n",
    "plt.plot(k_values, sums_sq)\n",
    "plt.title('Elbow Curve')\n",
    "plt.xlabel('Number of Clusters')\n",
    "plt.ylabel('Sum of Squared Distances')\n",
    "plt.show()"
   ]
  },
  {
   "cell_type": "code",
   "execution_count": 23,
   "metadata": {},
   "outputs": [],
   "source": [
    "def gap_statistic(X):\n",
    "    \"\"\"\n",
    "    Computes the gap statistic for a given dataset X\n",
    "    \"\"\"\n",
    "    # Number of clusters to evaluate\n",
    "    k_range = range(2, 7)\n",
    "    \n",
    "    # Run K-means for each value of k\n",
    "    k_means = [KMeans(n_clusters=k).fit(X) for k in k_range]\n",
    "    \n",
    "    # Compute the within-cluster dispersion for each K-means model\n",
    "    Wks = [k_mean.inertia_ for k_mean in k_means]\n",
    "    \n",
    "    # Generate reference datasets to compute the expected dispersion\n",
    "    B = 10\n",
    "    B_refs = []\n",
    "    for i in range(B):\n",
    "        X_ref = np.random.uniform(np.min(X), np.max(X), size=X.shape)\n",
    "        k_means_ref = [KMeans(n_clusters=k).fit(X_ref) for k in k_range]\n",
    "        Wks_ref = [k_mean_ref.inertia_ for k_mean_ref in k_means_ref]\n",
    "        B_refs.append(Wks_ref)\n",
    "    \n",
    "    # Compute the expected dispersion and its standard deviation\n",
    "    Wks_ref = np.mean(B_refs, axis=0)\n",
    "    sd_ks_ref = np.std(B_refs, axis=0)\n",
    "    \n",
    "    # Compute the gap statistic\n",
    "    gap = np.log(Wks_ref) - np.log(Wks)\n",
    "    sd_gap = np.sqrt(1 + 1 / B) * sd_ks_ref\n",
    "    gap = gap - (gap[1] - gap[0])  # adjust for small k\n",
    "    \n",
    "    # Find the optimal number of clusters\n",
    "    k_opt = k_range[np.argmax(gap)]\n",
    "    \n",
    "    return k_opt\n"
   ]
  },
  {
   "cell_type": "code",
   "execution_count": 24,
   "metadata": {},
   "outputs": [
    {
     "data": {
      "text/plain": [
       "2"
      ]
     },
     "execution_count": 24,
     "metadata": {},
     "output_type": "execute_result"
    }
   ],
   "source": [
    "gap_statistic(df)"
   ]
  },
  {
   "attachments": {},
   "cell_type": "markdown",
   "metadata": {},
   "source": [
    "# A result, to determine optimum cluster number in this case with K-means algorithm:\n",
    "## Silhouette : 2_clusters\n",
    "## Elbow : 3_clusters\n",
    "## Gap statistics : 2_clusters"
   ]
  },
  {
   "cell_type": "code",
   "execution_count": 25,
   "metadata": {},
   "outputs": [
    {
     "data": {
      "image/png": "[encoded data removed]",
      "text/plain": [
       "<Figure size 432x288 with 1 Axes>"
      ]
     },
     "metadata": {
      "needs_background": "light"
     },
     "output_type": "display_data"
    }
   ],
   "source": [
    "# fit K-means clustering with 2 clusters\n",
    "kmeans = KMeans(2)\n",
    "cluster_labels = kmeans.fit_predict(df)\n",
    "\n",
    "# Plotting the clustering results\n",
    "plt.scatter(df.iloc[:, 0], df.iloc[:, 1], c=cluster_labels, cmap='viridis')\n",
    "plt.xlabel(\"Feature 1\")\n",
    "plt.ylabel(\"Feature 2\")\n",
    "plt.show()"
   ]
  },
  {
   "cell_type": "code",
   "execution_count": 26,
   "metadata": {},
   "outputs": [
    {
     "name": "stdout",
     "output_type": "stream",
     "text": [
      "Number of clusters found:  277\n",
      "-0.41354861974778423\n"
     ]
    }
   ],
   "source": [
    "# fit DBSCAN clustering \n",
    "dbscan = DBSCAN(eps=0.3, min_samples=5)\n",
    "clusters = dbscan.fit_predict(df)\n",
    "\n",
    "num_clusters = len(set(clusters)) - (1 if -1 in clusters else 0)\n",
    "\n",
    "# Print the number of clusters\n",
    "print('Number of clusters found: ', num_clusters)\n",
    "\n",
    "# calculate silhouette score\n",
    "silhouette_avg = silhouette_score(df,clusters)\n",
    "print(silhouette_avg)"
   ]
  },
  {
   "cell_type": "code",
   "execution_count": 27,
   "metadata": {},
   "outputs": [
    {
     "data": {
      "image/png": "[encoded data removed]",
      "text/plain": [
       "<Figure size 432x288 with 1 Axes>"
      ]
     },
     "metadata": {
      "needs_background": "light"
     },
     "output_type": "display_data"
    }
   ],
   "source": [
    "# Plotting the clustering results\n",
    "plt.scatter(df.iloc[:, 0], df.iloc[:, 1], c=clusters, cmap='viridis')\n",
    "plt.xlabel(\"Feature 1\")\n",
    "plt.ylabel(\"Feature 2\")\n",
    "plt.show()\n"
   ]
  },
  {
   "cell_type": "code",
   "execution_count": null,
   "metadata": {},
   "outputs": [],
   "source": []
  }
 ],
 "metadata": {
  "kernelspec": {
   "display_name": "base",
   "language": "python",
   "name": "python3"
  },
  "language_info": {
   "codemirror_mode": {
    "name": "ipython",
    "version": 3
   },
   "file_extension": ".py",
   "mimetype": "text/x-python",
   "name": "python",
   "nbconvert_exporter": "python",
   "pygments_lexer": "ipython3",
   "version": "3.8.8"
  },
  "orig_nbformat": 4
 },
 "nbformat": 4,
 "nbformat_minor": 2
}
